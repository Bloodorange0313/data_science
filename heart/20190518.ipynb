{
 "cells": [
  {
   "cell_type": "code",
   "execution_count": 152,
   "metadata": {},
   "outputs": [],
   "source": [
    "import numpy as np\n",
    "import pandas as pd\n",
    "import matplotlib.pyplot as plt\n",
    "%matplotlib inline\n",
    "from sklearn.model_selection import train_test_split\n",
    "#import seaborn as sns\n",
    "from scipy import stats\n",
    "from scipy.stats import norm\n",
    "#import seaborn as sns\n",
    "#sns.set(context = 'paper', palette = 'winter_r', style = 'darkgrid', rc= {'figure.facecolor': 'gray',}, font_scale=1.5)"
   ]
  },
  {
   "cell_type": "code",
   "execution_count": 153,
   "metadata": {},
   "outputs": [
    {
     "data": {
      "text/plain": [
       "Int64Index([0, 1, 2, 3, 4, 5, 6, 7, 8, 9, 10, 11, 12, 13], dtype='int64')"
      ]
     },
     "execution_count": 153,
     "metadata": {},
     "output_type": "execute_result"
    }
   ],
   "source": [
    "def Readcsv(data):\n",
    "    return (pd.read_csv(data, header=None, sep = ' '))\n",
    "\n",
    "df = Readcsv('reprocessed.hungarian.data' )\n",
    "df.columns"
   ]
  },
  {
   "cell_type": "code",
   "execution_count": 154,
   "metadata": {},
   "outputs": [
    {
     "data": {
      "text/plain": [
       "<bound method NDFrame.head of      0   1   2    3    4   5   6    7   8    9   10  11  12  13\n",
       "0    40   1   2  140  289   0   0  172   0  0.0  -9  -9  -9   0\n",
       "1    49   0   3  160  180   0   0  156   0  1.0   2  -9  -9   1\n",
       "2    37   1   2  130  283   0   1   98   0  0.0  -9  -9  -9   0\n",
       "3    48   0   4  138  214   0   0  108   1  1.5   2  -9  -9   3\n",
       "4    54   1   3  150   -9   0   0  122   0  0.0  -9  -9  -9   0\n",
       "5    39   1   3  120  339   0   0  170   0  0.0  -9  -9  -9   0\n",
       "6    45   0   2  130  237   0   0  170   0  0.0  -9  -9  -9   0\n",
       "7    54   1   2  110  208   0   0  142   0  0.0  -9  -9  -9   0\n",
       "8    37   1   4  140  207   0   0  130   1  1.5   2  -9  -9   1\n",
       "9    48   0   2  120  284   0   0  120   0  0.0  -9  -9  -9   0\n",
       "10   37   0   3  130  211   0   0  142   0  0.0  -9  -9  -9   0\n",
       "11   58   1   2  136  164   0   1   99   1  2.0   2  -9  -9   3\n",
       "12   39   1   2  120  204   0   0  145   0  0.0  -9  -9  -9   0\n",
       "13   49   1   4  140  234   0   0  140   1  1.0   2  -9  -9   3\n",
       "14   42   0   3  115  211   0   1  137   0  0.0  -9  -9  -9   0\n",
       "15   54   0   2  120  273   0   0  150   0  1.5   2  -9  -9   0\n",
       "16   38   1   4  110  196   0   0  166   0  0.0  -9  -9  -9   1\n",
       "17   43   0   2  120  201   0   0  165   0  0.0  -9  -9  -9   0\n",
       "18   60   1   4  100  248   0   0  125   0  1.0   2  -9  -9   1\n",
       "19   36   1   2  120  267   0   0  160   0  3.0   2  -9  -9   1\n",
       "20   43   0   1  100  223   0   0  142   0  0.0  -9  -9  -9   0\n",
       "21   44   1   2  120  184   0   0  142   0  1.0   2  -9  -9   0\n",
       "22   49   0   2  124  201   0   0  164   0  0.0  -9  -9  -9   0\n",
       "23   44   1   2  150  288   0   0  150   1  3.0   2  -9  -9   3\n",
       "24   40   1   3  130  215   0   0  138   0  0.0  -9  -9  -9   0\n",
       "25   36   1   3  130  209   0   0  178   0  0.0  -9  -9  -9   0\n",
       "26   53   1   4  124  260   0   1  112   1  3.0   2  -9  -9   0\n",
       "27   52   1   2  120  284   0   0  118   0  0.0  -9  -9  -9   0\n",
       "28   53   0   2  113  468  -9   0  127   0  0.0  -9  -9  -9   0\n",
       "29   51   1   2  125  188   0   0  145   0  0.0  -9  -9  -9   0\n",
       "..   ..  ..  ..  ...  ...  ..  ..  ...  ..  ...  ..  ..  ..  ..\n",
       "264  59   1   4  130   -9   0   0  125   0  0.0  -9  -9  -9   3\n",
       "265  47   1   3  140  193   0   0  145   1  1.0   2  -9  -9   1\n",
       "266  54   1   2  160  305   0   0  175   0  0.0  -9  -9  -9   0\n",
       "267  52   1   4  130  298   0   0  110   1  1.0   2  -9  -9   3\n",
       "268  34   1   2   98  220   0   0  150   0  0.0  -9  -9  -9   0\n",
       "269  54   1   4  130  242   0   0   91   1  1.0   2  -9  -9   2\n",
       "270  47   0   3  130   -9   0   0  145   0  2.0   2  -9  -9   0\n",
       "271  45   1   4  120  225   0   0  140   0  0.0  -9  -9  -9   0\n",
       "272  32   0   2  105  198   0   0  165   0  0.0  -9  -9  -9   0\n",
       "273  55   1   4  140  201   0   0  130   1  3.0   2  -9  -9   1\n",
       "274  55   1   3  120  220   0   2  134   0  0.0  -9  -9  -9   0\n",
       "275  45   0   2  180   -9   0   0  180   0  0.0  -9  -9  -9   0\n",
       "276  59   1   3  180  213   0   0  100   0  0.0  -9  -9  -9   0\n",
       "277  51   1   3  135  160   0   0  150   0  2.0   2  -9  -9   3\n",
       "278  52   1   4  170   -9   0   0  126   1  1.5   2  -9  -9   2\n",
       "279  57   0   4  180  347   0   1  126   1  0.8   2  -9  -9   0\n",
       "280  54   0   2  130  253   0   1  155   0  0.0  -9  -9  -9   0\n",
       "281  60   1   3  120  246   0   2  135   0  0.0  -9  -9  -9   0\n",
       "282  49   1   4  150  222   0   0  122   0  2.0   2  -9  -9   4\n",
       "283  51   0   3  130  220   0   0  160   1  2.0   1  -9  -9   0\n",
       "284  55   0   2  110  344   0   1  160   0  0.0  -9  -9  -9   0\n",
       "285  42   1   4  140  358   0   0  170   0  0.0  -9  -9  -9   0\n",
       "286  51   0   3  110  190   0   0  120   0  0.0  -9  -9  -9   0\n",
       "287  59   1   4  140   -9   0   0  140   0  0.0  -9   0  -9   0\n",
       "288  53   1   2  120   -9   0   0  132   0  0.0  -9  -9  -9   0\n",
       "289  48   0   2   -9  308   0   1   -9  -9  2.0   1  -9  -9   0\n",
       "290  36   1   2  120  166   0   0  180   0  0.0  -9  -9  -9   0\n",
       "291  48   1   3  110  211   0   0  138   0  0.0  -9  -9   6   0\n",
       "292  47   0   2  140  257   0   0  135   0  1.0   1  -9  -9   0\n",
       "293  53   1   4  130  182   0   0  148   0  0.0  -9  -9  -9   0\n",
       "\n",
       "[294 rows x 14 columns]>"
      ]
     },
     "execution_count": 154,
     "metadata": {},
     "output_type": "execute_result"
    }
   ],
   "source": [
    "df.head"
   ]
  },
  {
   "cell_type": "code",
   "execution_count": 155,
   "metadata": {},
   "outputs": [
    {
     "name": "stdout",
     "output_type": "stream",
     "text": [
      "        0      1      2      3      4      5      6      7      8      9   \\\n",
      "0    False  False  False  False  False  False  False  False  False  False   \n",
      "1    False  False  False  False  False  False  False  False  False  False   \n",
      "2    False  False  False  False  False  False  False  False  False  False   \n",
      "3    False  False  False  False  False  False  False  False  False  False   \n",
      "4    False  False  False  False  False  False  False  False  False  False   \n",
      "5    False  False  False  False  False  False  False  False  False  False   \n",
      "6    False  False  False  False  False  False  False  False  False  False   \n",
      "7    False  False  False  False  False  False  False  False  False  False   \n",
      "8    False  False  False  False  False  False  False  False  False  False   \n",
      "9    False  False  False  False  False  False  False  False  False  False   \n",
      "10   False  False  False  False  False  False  False  False  False  False   \n",
      "11   False  False  False  False  False  False  False  False  False  False   \n",
      "12   False  False  False  False  False  False  False  False  False  False   \n",
      "13   False  False  False  False  False  False  False  False  False  False   \n",
      "14   False  False  False  False  False  False  False  False  False  False   \n",
      "15   False  False  False  False  False  False  False  False  False  False   \n",
      "16   False  False  False  False  False  False  False  False  False  False   \n",
      "17   False  False  False  False  False  False  False  False  False  False   \n",
      "18   False  False  False  False  False  False  False  False  False  False   \n",
      "19   False  False  False  False  False  False  False  False  False  False   \n",
      "20   False  False  False  False  False  False  False  False  False  False   \n",
      "21   False  False  False  False  False  False  False  False  False  False   \n",
      "22   False  False  False  False  False  False  False  False  False  False   \n",
      "23   False  False  False  False  False  False  False  False  False  False   \n",
      "24   False  False  False  False  False  False  False  False  False  False   \n",
      "25   False  False  False  False  False  False  False  False  False  False   \n",
      "26   False  False  False  False  False  False  False  False  False  False   \n",
      "27   False  False  False  False  False  False  False  False  False  False   \n",
      "28   False  False  False  False  False  False  False  False  False  False   \n",
      "29   False  False  False  False  False  False  False  False  False  False   \n",
      "..     ...    ...    ...    ...    ...    ...    ...    ...    ...    ...   \n",
      "264  False  False  False  False  False  False  False  False  False  False   \n",
      "265  False  False  False  False  False  False  False  False  False  False   \n",
      "266  False  False  False  False  False  False  False  False  False  False   \n",
      "267  False  False  False  False  False  False  False  False  False  False   \n",
      "268  False  False  False  False  False  False  False  False  False  False   \n",
      "269  False  False  False  False  False  False  False  False  False  False   \n",
      "270  False  False  False  False  False  False  False  False  False  False   \n",
      "271  False  False  False  False  False  False  False  False  False  False   \n",
      "272  False  False  False  False  False  False  False  False  False  False   \n",
      "273  False  False  False  False  False  False  False  False  False  False   \n",
      "274  False  False  False  False  False  False  False  False  False  False   \n",
      "275  False  False  False  False  False  False  False  False  False  False   \n",
      "276  False  False  False  False  False  False  False  False  False  False   \n",
      "277  False  False  False  False  False  False  False  False  False  False   \n",
      "278  False  False  False  False  False  False  False  False  False  False   \n",
      "279  False  False  False  False  False  False  False  False  False  False   \n",
      "280  False  False  False  False  False  False  False  False  False  False   \n",
      "281  False  False  False  False  False  False  False  False  False  False   \n",
      "282  False  False  False  False  False  False  False  False  False  False   \n",
      "283  False  False  False  False  False  False  False  False  False  False   \n",
      "284  False  False  False  False  False  False  False  False  False  False   \n",
      "285  False  False  False  False  False  False  False  False  False  False   \n",
      "286  False  False  False  False  False  False  False  False  False  False   \n",
      "287  False  False  False  False  False  False  False  False  False  False   \n",
      "288  False  False  False  False  False  False  False  False  False  False   \n",
      "289  False  False  False  False  False  False  False  False  False  False   \n",
      "290  False  False  False  False  False  False  False  False  False  False   \n",
      "291  False  False  False  False  False  False  False  False  False  False   \n",
      "292  False  False  False  False  False  False  False  False  False  False   \n",
      "293  False  False  False  False  False  False  False  False  False  False   \n",
      "\n",
      "        10     11     12     13  \n",
      "0    False  False  False  False  \n",
      "1    False  False  False  False  \n",
      "2    False  False  False  False  \n",
      "3    False  False  False  False  \n",
      "4    False  False  False  False  \n",
      "5    False  False  False  False  \n",
      "6    False  False  False  False  \n",
      "7    False  False  False  False  \n",
      "8    False  False  False  False  \n",
      "9    False  False  False  False  \n",
      "10   False  False  False  False  \n",
      "11   False  False  False  False  \n",
      "12   False  False  False  False  \n",
      "13   False  False  False  False  \n",
      "14   False  False  False  False  \n",
      "15   False  False  False  False  \n",
      "16   False  False  False  False  \n",
      "17   False  False  False  False  \n",
      "18   False  False  False  False  \n",
      "19   False  False  False  False  \n",
      "20   False  False  False  False  \n",
      "21   False  False  False  False  \n",
      "22   False  False  False  False  \n",
      "23   False  False  False  False  \n",
      "24   False  False  False  False  \n",
      "25   False  False  False  False  \n",
      "26   False  False  False  False  \n",
      "27   False  False  False  False  \n",
      "28   False  False  False  False  \n",
      "29   False  False  False  False  \n",
      "..     ...    ...    ...    ...  \n",
      "264  False  False  False  False  \n",
      "265  False  False  False  False  \n",
      "266  False  False  False  False  \n",
      "267  False  False  False  False  \n",
      "268  False  False  False  False  \n",
      "269  False  False  False  False  \n",
      "270  False  False  False  False  \n",
      "271  False  False  False  False  \n",
      "272  False  False  False  False  \n",
      "273  False  False  False  False  \n",
      "274  False  False  False  False  \n",
      "275  False  False  False  False  \n",
      "276  False  False  False  False  \n",
      "277  False  False  False  False  \n",
      "278  False  False  False  False  \n",
      "279  False  False  False  False  \n",
      "280  False  False  False  False  \n",
      "281  False  False  False  False  \n",
      "282  False  False  False  False  \n",
      "283  False  False  False  False  \n",
      "284  False  False  False  False  \n",
      "285  False  False  False  False  \n",
      "286  False  False  False  False  \n",
      "287  False  False  False  False  \n",
      "288  False  False  False  False  \n",
      "289  False  False  False  False  \n",
      "290  False  False  False  False  \n",
      "291  False  False  False  False  \n",
      "292  False  False  False  False  \n",
      "293  False  False  False  False  \n",
      "\n",
      "[294 rows x 14 columns]\n"
     ]
    }
   ],
   "source": [
    "print(df.isnull())"
   ]
  },
  {
   "cell_type": "code",
   "execution_count": 156,
   "metadata": {},
   "outputs": [],
   "source": [
    "df_train, df_test = train_test_split(df, test_size=0.33)"
   ]
  },
  {
   "cell_type": "code",
   "execution_count": 157,
   "metadata": {},
   "outputs": [
    {
     "data": {
      "text/plain": [
       "<bound method NDFrame.head of      0   1   2    3    4   5   6    7   8    9   10  11  12  13\n",
       "257  55   0   2  130  394   0   2  150   0  0.0  -9  -9  -9   0\n",
       "147  43   0   2  120  249   0   1  176   0  0.0  -9  -9  -9   0\n",
       "47   50   1   2  140  216   0   0  170   0  0.0  -9  -9   3   0\n",
       "225  55   1   2  120  256   1   0  137   0  0.0  -9  -9   7   0\n",
       "139  43   1   4  150  247   0   0  130   1  2.0   2  -9  -9   1\n",
       "236  39   1   2  120  200   0   0  160   1  1.0   2  -9  -9   0\n",
       "115  33   0   4  100  246   0   0  150   1  1.0   2  -9  -9   1\n",
       "56   31   1   4  120  270   0   0  153   1  1.5   2  -9  -9   1\n",
       "170  58   1   3  140  179   0   0  160   0  0.0  -9  -9  -9   0\n",
       "202  46   1   3  120  230   0   0  150   0  0.0  -9  -9  -9   0\n",
       "4    54   1   3  150   -9   0   0  122   0  0.0  -9  -9  -9   0\n",
       "166  46   1   1  140  272   1   0  175   0  2.0   2  -9  -9   3\n",
       "268  34   1   2   98  220   0   0  150   0  0.0  -9  -9  -9   0\n",
       "169  58   1   4  135  222   0   0  100   0  0.0  -9  -9  -9   0\n",
       "0    40   1   2  140  289   0   0  172   0  0.0  -9  -9  -9   0\n",
       "293  53   1   4  130  182   0   0  148   0  0.0  -9  -9  -9   0\n",
       "65   37   0   2  120  260   0   0  130   0  0.0  -9  -9  -9   0\n",
       "250  49   1   4  130  341   0   0  120   1  1.0   2  -9  -9   3\n",
       "118  35   0   1  120  160   0   1  185   0  0.0  -9  -9  -9   0\n",
       "197  49   1   4  120  297  -9   0  132   0  1.0   2  -9  -9   0\n",
       "258  36   1   3  150  160   0   0  172   0  0.0  -9  -9  -9   0\n",
       "97   39   1   3  160  147   1   0  160   0  0.0  -9  -9  -9   0\n",
       "207  35   1   2  120  308   0   2  180   0  0.0  -9  -9  -9   0\n",
       "108  50   1   4  140  129   0   0  135   0  0.0  -9  -9  -9   0\n",
       "50   50   1   4  130  233   0   0  121   1  2.0   2  -9   7   2\n",
       "132  56   1   4  170  388   0   1  122   1  2.0   2  -9  -9   3\n",
       "195  41   0   2  125  184   0   0  180   0  0.0  -9  -9  -9   0\n",
       "129  42   1   3  120  228   0   0  152   1  1.5   2  -9  -9   0\n",
       "282  49   1   4  150  222   0   0  122   0  2.0   2  -9  -9   4\n",
       "246  54   1   1  120  171   0   0  137   0  2.0   1  -9  -9   0\n",
       "..   ..  ..  ..  ...  ...  ..  ..  ...  ..  ...  ..  ..  ..  ..\n",
       "172  40   1   3  140   -9   0   0  188   0  0.0  -9  -9  -9   0\n",
       "7    54   1   2  110  208   0   0  142   0  0.0  -9  -9  -9   0\n",
       "214  56   0   3  130  219  -9   1  164   0  0.0  -9  -9   7   0\n",
       "219  55   1   2  140  196   0   0  150   0  0.0  -9  -9   7   0\n",
       "99   41   1   2  125  269   0   0  144   0  0.0  -9  -9  -9   0\n",
       "191  46   1   4  180  280   0   1  120   0  0.0  -9  -9  -9   0\n",
       "78   52   1   2  140  100   0   0  138   1  0.0  -9  -9  -9   0\n",
       "157  49   1   4  140   -9   0   0  130   0  0.0  -9  -9  -9   0\n",
       "46   37   1   4  120  223   0   0  168   0  0.0  -9  -9   3   0\n",
       "135  49   1   3  115  265   0   0  175   0  0.0  -9  -9  -9   1\n",
       "16   38   1   4  110  196   0   0  166   0  0.0  -9  -9  -9   1\n",
       "221  46   1   4  130  222   0   0  112   0  0.0  -9  -9  -9   2\n",
       "289  48   0   2   -9  308   0   1   -9  -9  2.0   1  -9  -9   0\n",
       "193  48   1   2  130  245   0   0  160   0  0.0  -9  -9  -9   0\n",
       "5    39   1   3  120  339   0   0  170   0  0.0  -9  -9  -9   0\n",
       "271  45   1   4  120  225   0   0  140   0  0.0  -9  -9  -9   0\n",
       "33   41   1   4  130  172   0   1  130   0  2.0   2  -9  -9   3\n",
       "206  50   1   4  150  215   0   0  140   1  0.0  -9  -9  -9   0\n",
       "186  58   1   3  160  211   1   1   92   0  0.0  -9  -9  -9   2\n",
       "110  59   0   2  130  188   0   0  124   0  1.0   2  -9  -9   0\n",
       "79   49   1   4  130  206   0   0  170   0  0.0  -9  -9  -9   1\n",
       "122  46   1   4  110  240   0   1  140   0  0.0  -9  -9   3   0\n",
       "182  51   1   2  130  224   0   0  150   0  0.0  -9  -9  -9   0\n",
       "117  59   0   4  130  338   1   1  130   1  1.5   2  -9  -9   1\n",
       "232  40   1   3  130  281   0   0  167   0  0.0  -9  -9  -9   0\n",
       "220  29   1   2  140   -9   0   0  170   0  0.0  -9  -9  -9   0\n",
       "28   53   0   2  113  468  -9   0  127   0  0.0  -9  -9  -9   0\n",
       "45   59   1   3  130  318   0   0  120   1  1.0   2  -9   3   0\n",
       "113  38   1   2  140  297   0   0  150   0  0.0  -9  -9  -9   0\n",
       "241  55   1   2  145  326   0   0  155   0  0.0  -9  -9  -9   0\n",
       "\n",
       "[196 rows x 14 columns]>"
      ]
     },
     "execution_count": 157,
     "metadata": {},
     "output_type": "execute_result"
    }
   ],
   "source": [
    "df_train.head"
   ]
  },
  {
   "cell_type": "code",
   "execution_count": 158,
   "metadata": {},
   "outputs": [
    {
     "data": {
      "text/plain": [
       "<bound method NDFrame.head of      0   1   2    3    4   5   6    7   8    9   10  11  12  13\n",
       "14   42   0   3  115  211   0   1  137   0  0.0  -9  -9  -9   0\n",
       "273  55   1   4  140  201   0   0  130   1  3.0   2  -9  -9   1\n",
       "25   36   1   3  130  209   0   0  178   0  0.0  -9  -9  -9   0\n",
       "138  54   1   4  140   -9   0   0  118   1  0.0  -9  -9  -9   2\n",
       "256  53   0   3  120  274   0   0  130   0  0.0  -9  -9  -9   0\n",
       "54   52   0   4  130  180   0   0  140   1  1.5   2  -9  -9   0\n",
       "12   39   1   2  120  204   0   0  145   0  0.0  -9  -9  -9   0\n",
       "40   54   0   2  150  230   0   0  130   0  0.0  -9  -9  -9   0\n",
       "226  50   1   4  145  264   0   0  150   0  0.0  -9  -9  -9   1\n",
       "121  52   0   3  125  272   0   0  139   0  0.0  -9  -9  -9   0\n",
       "274  55   1   3  120  220   0   2  134   0  0.0  -9  -9  -9   0\n",
       "156  38   1   4  110   -9   0   0  150   1  1.0   2  -9  -9   2\n",
       "171  29   1   2  120  243   0   0  160   0  0.0  -9  -9  -9   0\n",
       "242  54   1   4  200  198   0   0  142   1  2.0   2  -9  -9   2\n",
       "200  57   0   1  130  308   0   0   98   0  1.0   2  -9  -9   0\n",
       "15   54   0   2  120  273   0   0  150   0  1.5   2  -9  -9   0\n",
       "35   32   1   2  125  254   0   0  155   0  0.0  -9  -9  -9   0\n",
       "283  51   0   3  130  220   0   0  160   1  2.0   1  -9  -9   0\n",
       "290  36   1   2  120  166   0   0  180   0  0.0  -9  -9  -9   0\n",
       "279  57   0   4  180  347   0   1  126   1  0.8   2  -9  -9   0\n",
       "19   36   1   2  120  267   0   0  160   0  3.0   2  -9  -9   1\n",
       "3    48   0   4  138  214   0   0  108   1  1.5   2  -9  -9   3\n",
       "150  39   1   2  130   -9   0   0  120   0  0.0  -9  -9  -9   0\n",
       "215  47   1   4  150  226   0   0   98   1  1.5   2   0   7   1\n",
       "218  54   1   3  120  217   0   0  137   0  0.0  -9  -9  -9   0\n",
       "101  51   1   4  130  179   0   0  100   0  0.0  -9  -9   7   0\n",
       "269  54   1   4  130  242   0   0   91   1  1.0   2  -9  -9   2\n",
       "163  49   0   2  110   -9   0   0  160   0  0.0  -9  -9  -9   0\n",
       "265  47   1   3  140  193   0   0  145   1  1.0   2  -9  -9   1\n",
       "37   41   0   2  110  250   0   1  142   0  0.0  -9  -9  -9   0\n",
       "..   ..  ..  ..  ...  ...  ..  ..  ...  ..  ...  ..  ..  ..  ..\n",
       "184  46   1   4  110  238   0   1  140   1  1.0   2  -9   3   0\n",
       "190  53   1   4  180  285   0   1  120   1  1.5   2  -9  -9   3\n",
       "134  61   0   4  130  294   0   1  120   1  1.0   2  -9  -9   0\n",
       "204  31   0   2  100  219   0   1  150   0  0.0  -9  -9  -9   0\n",
       "248  48   1   4  122  275   1   1  150   1  2.0   3  -9  -9   2\n",
       "179  37   1   3  130  194   0   0  150   0  0.0  -9  -9  -9   0\n",
       "124  58   1   2  130  230   0   0  150   0  0.0  -9  -9  -9   0\n",
       "227  53   1   3  120  195   0   0  140   0  0.0  -9  -9  -9   0\n",
       "243  55   1   2  160  292   1   0  143   1  2.0   2  -9  -9   3\n",
       "167  50   1   4  140  231   0   1  140   1  5.0   2  -9  -9   4\n",
       "114  49   0   3  130  207   0   1  135   0  0.0  -9  -9  -9   0\n",
       "237  41   1   4  120  336   0   0  118   1  3.0   2  -9  -9   4\n",
       "95   58   1   4  130  263   0   0  140   1  2.0   2  -9  -9   2\n",
       "155  56   1   4  155  342   1   0  150   1  3.0   2  -9  -9   4\n",
       "13   49   1   4  140  234   0   0  140   1  1.0   2  -9  -9   3\n",
       "133  56   1   4  150  230   0   1  124   1  1.5   2  -9  -9   3\n",
       "109  39   1   2  190  241   0   0  106   0  0.0  -9  -9  -9   0\n",
       "196  62   0   1  160  193   0   0  116   0  0.0  -9  -9  -9   0\n",
       "231  37   1   4  130  315   0   0  158   0  0.0  -9  -9  -9   0\n",
       "255  55   1   4  145  248   0   0   96   1  2.0   2  -9  -9   3\n",
       "192  50   1   2  170  209   0   1  116   0  0.0  -9  -9  -9   0\n",
       "17   43   0   2  120  201   0   0  165   0  0.0  -9  -9  -9   0\n",
       "251  44   1   4  135  491   0   0  135   0  0.0  -9  -9  -9   4\n",
       "106  48   0   4  120  254   0   1  110   0  0.0  -9  -9  -9   0\n",
       "286  51   0   3  110  190   0   0  120   0  0.0  -9  -9  -9   0\n",
       "177  54   1   4  140  216   0   0  105   0  1.5   2  -9  -9   3\n",
       "9    48   0   2  120  284   0   0  120   0  0.0  -9  -9  -9   0\n",
       "30   53   1   3  145  518   0   0  130   0  0.0  -9  -9  -9   3\n",
       "145  39   1   4  110  273   0   0  132   0  0.0  -9  -9  -9   0\n",
       "90   49   0   2  110   -9   0   0  160   0  0.0  -9  -9  -9   0\n",
       "\n",
       "[98 rows x 14 columns]>"
      ]
     },
     "execution_count": 158,
     "metadata": {},
     "output_type": "execute_result"
    }
   ],
   "source": [
    "df_test.head"
   ]
  },
  {
   "cell_type": "code",
   "execution_count": 167,
   "metadata": {},
   "outputs": [
    {
     "data": {
      "text/plain": [
       "((196, 13), (196,))"
      ]
     },
     "execution_count": 167,
     "metadata": {},
     "output_type": "execute_result"
    }
   ],
   "source": [
    "X_train = df_train.drop([13], axis = 1)\n",
    "X_train\n",
    "y_train = df_train[13]\n",
    "\n",
    "y_train\n",
    "X_train.shape , y_train.shape"
   ]
  },
  {
   "cell_type": "code",
   "execution_count": 168,
   "metadata": {},
   "outputs": [
    {
     "data": {
      "text/plain": [
       "SVC(C=1.0, cache_size=200, class_weight=None, coef0=0.0,\n",
       "  decision_function_shape='ovr', degree=3, gamma='auto', kernel='rbf',\n",
       "  max_iter=-1, probability=False, random_state=None, shrinking=True,\n",
       "  tol=0.001, verbose=False)"
      ]
     },
     "execution_count": 168,
     "metadata": {},
     "output_type": "execute_result"
    }
   ],
   "source": [
    "from sklearn import svm\n",
    "\n",
    "clf = svm.SVC()\n",
    "clf.fit(X_train, y_train)"
   ]
  },
  {
   "cell_type": "code",
   "execution_count": 177,
   "metadata": {},
   "outputs": [],
   "source": [
    "X_test = df_test.drop([13], axis = 1)\n",
    "X_test\n",
    "y_test = df_test[13]\n",
    "\n",
    "y_pred = clf.predict(X_test)\n",
    "#print(y_test)\n",
    "#print(y_train)\n",
    "\n"
   ]
  },
  {
   "cell_type": "code",
   "execution_count": 181,
   "metadata": {},
   "outputs": [
    {
     "name": "stdout",
     "output_type": "stream",
     "text": [
      "             precision    recall  f1-score   support\n",
      "\n",
      "          0       0.61      1.00      0.76        60\n",
      "          1       0.00      0.00      0.00         9\n",
      "          2       0.00      0.00      0.00        10\n",
      "          3       0.00      0.00      0.00        13\n",
      "          4       0.00      0.00      0.00         6\n",
      "\n",
      "avg / total       0.37      0.61      0.46        98\n",
      "\n",
      "0.6122448979591837\n"
     ]
    },
    {
     "name": "stderr",
     "output_type": "stream",
     "text": [
      "/Library/Frameworks/Python.framework/Versions/3.6/lib/python3.6/site-packages/sklearn/metrics/classification.py:1135: UndefinedMetricWarning: Precision and F-score are ill-defined and being set to 0.0 in labels with no predicted samples.\n",
      "  'precision', 'predicted', average, warn_for)\n"
     ]
    }
   ],
   "source": [
    "from sklearn.metrics import classification_report, accuracy_score\n",
    "\n",
    "print (classification_report(y_test, y_pred))\n",
    "print (accuracy_score(y_test, y_pred))"
   ]
  },
  {
   "cell_type": "code",
   "execution_count": null,
   "metadata": {},
   "outputs": [],
   "source": []
  }
 ],
 "metadata": {
  "kernelspec": {
   "display_name": "Python 3",
   "language": "python",
   "name": "python3"
  },
  "language_info": {
   "codemirror_mode": {
    "name": "ipython",
    "version": 3
   },
   "file_extension": ".py",
   "mimetype": "text/x-python",
   "name": "python",
   "nbconvert_exporter": "python",
   "pygments_lexer": "ipython3",
   "version": "3.6.4"
  }
 },
 "nbformat": 4,
 "nbformat_minor": 2
}
