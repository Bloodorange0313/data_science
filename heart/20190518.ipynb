{
 "cells": [
  {
   "cell_type": "markdown",
   "metadata": {},
   "source": [
    "# 心臓の病気の予測\n",
    "13列目が心臓病の予測になっている"
   ]
  },
  {
   "cell_type": "markdown",
   "metadata": {},
   "source": [
    "モジュールのインポート"
   ]
  },
  {
   "cell_type": "code",
   "execution_count": 27,
   "metadata": {},
   "outputs": [],
   "source": [
    "import numpy as np\n",
    "import pandas as pd\n",
    "import matplotlib.pyplot as plt\n",
    "%matplotlib inline\n",
    "from sklearn.model_selection import train_test_split\n",
    "#import seaborn as sns\n",
    "from scipy import stats\n",
    "\n",
    "from scipy.stats import norm\n",
    "#import seaborn as sns\n",
    "#sns.set(context = 'paper', palette = 'winter_r', style = 'darkgrid', rc= {'figure.facecolor': 'gray',}, font_scale=1.5)"
   ]
  },
  {
   "cell_type": "markdown",
   "metadata": {},
   "source": [
    "データの読み込み"
   ]
  },
  {
   "cell_type": "code",
   "execution_count": 28,
   "metadata": {},
   "outputs": [
    {
     "data": {
      "text/plain": [
       "Int64Index([0, 1, 2, 3, 4, 5, 6, 7, 8, 9, 10, 11, 12, 13], dtype='int64')"
      ]
     },
     "execution_count": 28,
     "metadata": {},
     "output_type": "execute_result"
    }
   ],
   "source": [
    "def Readcsv(data):\n",
    "    return (pd.read_csv(data, header=None, sep = ' '))\n",
    "\n",
    "df = Readcsv('reprocessed.hungarian.data' )\n",
    "df.columns"
   ]
  },
  {
   "cell_type": "code",
   "execution_count": 29,
   "metadata": {},
   "outputs": [
    {
     "data": {
      "text/html": [
       "<div>\n",
       "<style scoped>\n",
       "    .dataframe tbody tr th:only-of-type {\n",
       "        vertical-align: middle;\n",
       "    }\n",
       "\n",
       "    .dataframe tbody tr th {\n",
       "        vertical-align: top;\n",
       "    }\n",
       "\n",
       "    .dataframe thead th {\n",
       "        text-align: right;\n",
       "    }\n",
       "</style>\n",
       "<table border=\"1\" class=\"dataframe\">\n",
       "  <thead>\n",
       "    <tr style=\"text-align: right;\">\n",
       "      <th></th>\n",
       "      <th>0</th>\n",
       "      <th>1</th>\n",
       "      <th>2</th>\n",
       "      <th>3</th>\n",
       "      <th>4</th>\n",
       "      <th>5</th>\n",
       "      <th>6</th>\n",
       "      <th>7</th>\n",
       "      <th>8</th>\n",
       "      <th>9</th>\n",
       "      <th>10</th>\n",
       "      <th>11</th>\n",
       "      <th>12</th>\n",
       "      <th>13</th>\n",
       "    </tr>\n",
       "  </thead>\n",
       "  <tbody>\n",
       "    <tr>\n",
       "      <th>0</th>\n",
       "      <td>40</td>\n",
       "      <td>1</td>\n",
       "      <td>2</td>\n",
       "      <td>140</td>\n",
       "      <td>289</td>\n",
       "      <td>0</td>\n",
       "      <td>0</td>\n",
       "      <td>172</td>\n",
       "      <td>0</td>\n",
       "      <td>0.0</td>\n",
       "      <td>-9</td>\n",
       "      <td>-9</td>\n",
       "      <td>-9</td>\n",
       "      <td>0</td>\n",
       "    </tr>\n",
       "    <tr>\n",
       "      <th>1</th>\n",
       "      <td>49</td>\n",
       "      <td>0</td>\n",
       "      <td>3</td>\n",
       "      <td>160</td>\n",
       "      <td>180</td>\n",
       "      <td>0</td>\n",
       "      <td>0</td>\n",
       "      <td>156</td>\n",
       "      <td>0</td>\n",
       "      <td>1.0</td>\n",
       "      <td>2</td>\n",
       "      <td>-9</td>\n",
       "      <td>-9</td>\n",
       "      <td>1</td>\n",
       "    </tr>\n",
       "    <tr>\n",
       "      <th>2</th>\n",
       "      <td>37</td>\n",
       "      <td>1</td>\n",
       "      <td>2</td>\n",
       "      <td>130</td>\n",
       "      <td>283</td>\n",
       "      <td>0</td>\n",
       "      <td>1</td>\n",
       "      <td>98</td>\n",
       "      <td>0</td>\n",
       "      <td>0.0</td>\n",
       "      <td>-9</td>\n",
       "      <td>-9</td>\n",
       "      <td>-9</td>\n",
       "      <td>0</td>\n",
       "    </tr>\n",
       "    <tr>\n",
       "      <th>3</th>\n",
       "      <td>48</td>\n",
       "      <td>0</td>\n",
       "      <td>4</td>\n",
       "      <td>138</td>\n",
       "      <td>214</td>\n",
       "      <td>0</td>\n",
       "      <td>0</td>\n",
       "      <td>108</td>\n",
       "      <td>1</td>\n",
       "      <td>1.5</td>\n",
       "      <td>2</td>\n",
       "      <td>-9</td>\n",
       "      <td>-9</td>\n",
       "      <td>3</td>\n",
       "    </tr>\n",
       "    <tr>\n",
       "      <th>4</th>\n",
       "      <td>54</td>\n",
       "      <td>1</td>\n",
       "      <td>3</td>\n",
       "      <td>150</td>\n",
       "      <td>-9</td>\n",
       "      <td>0</td>\n",
       "      <td>0</td>\n",
       "      <td>122</td>\n",
       "      <td>0</td>\n",
       "      <td>0.0</td>\n",
       "      <td>-9</td>\n",
       "      <td>-9</td>\n",
       "      <td>-9</td>\n",
       "      <td>0</td>\n",
       "    </tr>\n",
       "  </tbody>\n",
       "</table>\n",
       "</div>"
      ],
      "text/plain": [
       "   0   1   2    3    4   5   6    7   8    9   10  11  12  13\n",
       "0  40   1   2  140  289   0   0  172   0  0.0  -9  -9  -9   0\n",
       "1  49   0   3  160  180   0   0  156   0  1.0   2  -9  -9   1\n",
       "2  37   1   2  130  283   0   1   98   0  0.0  -9  -9  -9   0\n",
       "3  48   0   4  138  214   0   0  108   1  1.5   2  -9  -9   3\n",
       "4  54   1   3  150   -9   0   0  122   0  0.0  -9  -9  -9   0"
      ]
     },
     "execution_count": 29,
     "metadata": {},
     "output_type": "execute_result"
    }
   ],
   "source": [
    "df.head()"
   ]
  },
  {
   "cell_type": "code",
   "execution_count": 30,
   "metadata": {},
   "outputs": [
    {
     "name": "stdout",
     "output_type": "stream",
     "text": [
      "        0      1      2      3      4      5      6      7      8      9   \\\n",
      "0    False  False  False  False  False  False  False  False  False  False   \n",
      "1    False  False  False  False  False  False  False  False  False  False   \n",
      "2    False  False  False  False  False  False  False  False  False  False   \n",
      "3    False  False  False  False  False  False  False  False  False  False   \n",
      "4    False  False  False  False  False  False  False  False  False  False   \n",
      "5    False  False  False  False  False  False  False  False  False  False   \n",
      "6    False  False  False  False  False  False  False  False  False  False   \n",
      "7    False  False  False  False  False  False  False  False  False  False   \n",
      "8    False  False  False  False  False  False  False  False  False  False   \n",
      "9    False  False  False  False  False  False  False  False  False  False   \n",
      "10   False  False  False  False  False  False  False  False  False  False   \n",
      "11   False  False  False  False  False  False  False  False  False  False   \n",
      "12   False  False  False  False  False  False  False  False  False  False   \n",
      "13   False  False  False  False  False  False  False  False  False  False   \n",
      "14   False  False  False  False  False  False  False  False  False  False   \n",
      "15   False  False  False  False  False  False  False  False  False  False   \n",
      "16   False  False  False  False  False  False  False  False  False  False   \n",
      "17   False  False  False  False  False  False  False  False  False  False   \n",
      "18   False  False  False  False  False  False  False  False  False  False   \n",
      "19   False  False  False  False  False  False  False  False  False  False   \n",
      "20   False  False  False  False  False  False  False  False  False  False   \n",
      "21   False  False  False  False  False  False  False  False  False  False   \n",
      "22   False  False  False  False  False  False  False  False  False  False   \n",
      "23   False  False  False  False  False  False  False  False  False  False   \n",
      "24   False  False  False  False  False  False  False  False  False  False   \n",
      "25   False  False  False  False  False  False  False  False  False  False   \n",
      "26   False  False  False  False  False  False  False  False  False  False   \n",
      "27   False  False  False  False  False  False  False  False  False  False   \n",
      "28   False  False  False  False  False  False  False  False  False  False   \n",
      "29   False  False  False  False  False  False  False  False  False  False   \n",
      "..     ...    ...    ...    ...    ...    ...    ...    ...    ...    ...   \n",
      "264  False  False  False  False  False  False  False  False  False  False   \n",
      "265  False  False  False  False  False  False  False  False  False  False   \n",
      "266  False  False  False  False  False  False  False  False  False  False   \n",
      "267  False  False  False  False  False  False  False  False  False  False   \n",
      "268  False  False  False  False  False  False  False  False  False  False   \n",
      "269  False  False  False  False  False  False  False  False  False  False   \n",
      "270  False  False  False  False  False  False  False  False  False  False   \n",
      "271  False  False  False  False  False  False  False  False  False  False   \n",
      "272  False  False  False  False  False  False  False  False  False  False   \n",
      "273  False  False  False  False  False  False  False  False  False  False   \n",
      "274  False  False  False  False  False  False  False  False  False  False   \n",
      "275  False  False  False  False  False  False  False  False  False  False   \n",
      "276  False  False  False  False  False  False  False  False  False  False   \n",
      "277  False  False  False  False  False  False  False  False  False  False   \n",
      "278  False  False  False  False  False  False  False  False  False  False   \n",
      "279  False  False  False  False  False  False  False  False  False  False   \n",
      "280  False  False  False  False  False  False  False  False  False  False   \n",
      "281  False  False  False  False  False  False  False  False  False  False   \n",
      "282  False  False  False  False  False  False  False  False  False  False   \n",
      "283  False  False  False  False  False  False  False  False  False  False   \n",
      "284  False  False  False  False  False  False  False  False  False  False   \n",
      "285  False  False  False  False  False  False  False  False  False  False   \n",
      "286  False  False  False  False  False  False  False  False  False  False   \n",
      "287  False  False  False  False  False  False  False  False  False  False   \n",
      "288  False  False  False  False  False  False  False  False  False  False   \n",
      "289  False  False  False  False  False  False  False  False  False  False   \n",
      "290  False  False  False  False  False  False  False  False  False  False   \n",
      "291  False  False  False  False  False  False  False  False  False  False   \n",
      "292  False  False  False  False  False  False  False  False  False  False   \n",
      "293  False  False  False  False  False  False  False  False  False  False   \n",
      "\n",
      "        10     11     12     13  \n",
      "0    False  False  False  False  \n",
      "1    False  False  False  False  \n",
      "2    False  False  False  False  \n",
      "3    False  False  False  False  \n",
      "4    False  False  False  False  \n",
      "5    False  False  False  False  \n",
      "6    False  False  False  False  \n",
      "7    False  False  False  False  \n",
      "8    False  False  False  False  \n",
      "9    False  False  False  False  \n",
      "10   False  False  False  False  \n",
      "11   False  False  False  False  \n",
      "12   False  False  False  False  \n",
      "13   False  False  False  False  \n",
      "14   False  False  False  False  \n",
      "15   False  False  False  False  \n",
      "16   False  False  False  False  \n",
      "17   False  False  False  False  \n",
      "18   False  False  False  False  \n",
      "19   False  False  False  False  \n",
      "20   False  False  False  False  \n",
      "21   False  False  False  False  \n",
      "22   False  False  False  False  \n",
      "23   False  False  False  False  \n",
      "24   False  False  False  False  \n",
      "25   False  False  False  False  \n",
      "26   False  False  False  False  \n",
      "27   False  False  False  False  \n",
      "28   False  False  False  False  \n",
      "29   False  False  False  False  \n",
      "..     ...    ...    ...    ...  \n",
      "264  False  False  False  False  \n",
      "265  False  False  False  False  \n",
      "266  False  False  False  False  \n",
      "267  False  False  False  False  \n",
      "268  False  False  False  False  \n",
      "269  False  False  False  False  \n",
      "270  False  False  False  False  \n",
      "271  False  False  False  False  \n",
      "272  False  False  False  False  \n",
      "273  False  False  False  False  \n",
      "274  False  False  False  False  \n",
      "275  False  False  False  False  \n",
      "276  False  False  False  False  \n",
      "277  False  False  False  False  \n",
      "278  False  False  False  False  \n",
      "279  False  False  False  False  \n",
      "280  False  False  False  False  \n",
      "281  False  False  False  False  \n",
      "282  False  False  False  False  \n",
      "283  False  False  False  False  \n",
      "284  False  False  False  False  \n",
      "285  False  False  False  False  \n",
      "286  False  False  False  False  \n",
      "287  False  False  False  False  \n",
      "288  False  False  False  False  \n",
      "289  False  False  False  False  \n",
      "290  False  False  False  False  \n",
      "291  False  False  False  False  \n",
      "292  False  False  False  False  \n",
      "293  False  False  False  False  \n",
      "\n",
      "[294 rows x 14 columns]\n"
     ]
    }
   ],
   "source": [
    "print(df.isnull())"
   ]
  },
  {
   "cell_type": "markdown",
   "metadata": {},
   "source": [
    "train dataとtest dataの分割"
   ]
  },
  {
   "cell_type": "code",
   "execution_count": 31,
   "metadata": {},
   "outputs": [],
   "source": [
    "df_train, df_test = train_test_split(df, test_size=0.20)"
   ]
  },
  {
   "cell_type": "code",
   "execution_count": 32,
   "metadata": {},
   "outputs": [
    {
     "data": {
      "text/html": [
       "<div>\n",
       "<style scoped>\n",
       "    .dataframe tbody tr th:only-of-type {\n",
       "        vertical-align: middle;\n",
       "    }\n",
       "\n",
       "    .dataframe tbody tr th {\n",
       "        vertical-align: top;\n",
       "    }\n",
       "\n",
       "    .dataframe thead th {\n",
       "        text-align: right;\n",
       "    }\n",
       "</style>\n",
       "<table border=\"1\" class=\"dataframe\">\n",
       "  <thead>\n",
       "    <tr style=\"text-align: right;\">\n",
       "      <th></th>\n",
       "      <th>0</th>\n",
       "      <th>1</th>\n",
       "      <th>2</th>\n",
       "      <th>3</th>\n",
       "      <th>4</th>\n",
       "      <th>5</th>\n",
       "      <th>6</th>\n",
       "      <th>7</th>\n",
       "      <th>8</th>\n",
       "      <th>9</th>\n",
       "      <th>10</th>\n",
       "      <th>11</th>\n",
       "      <th>12</th>\n",
       "      <th>13</th>\n",
       "    </tr>\n",
       "  </thead>\n",
       "  <tbody>\n",
       "    <tr>\n",
       "      <th>71</th>\n",
       "      <td>44</td>\n",
       "      <td>1</td>\n",
       "      <td>2</td>\n",
       "      <td>130</td>\n",
       "      <td>215</td>\n",
       "      <td>0</td>\n",
       "      <td>0</td>\n",
       "      <td>135</td>\n",
       "      <td>0</td>\n",
       "      <td>0.0</td>\n",
       "      <td>-9</td>\n",
       "      <td>-9</td>\n",
       "      <td>-9</td>\n",
       "      <td>0</td>\n",
       "    </tr>\n",
       "    <tr>\n",
       "      <th>166</th>\n",
       "      <td>46</td>\n",
       "      <td>1</td>\n",
       "      <td>1</td>\n",
       "      <td>140</td>\n",
       "      <td>272</td>\n",
       "      <td>1</td>\n",
       "      <td>0</td>\n",
       "      <td>175</td>\n",
       "      <td>0</td>\n",
       "      <td>2.0</td>\n",
       "      <td>2</td>\n",
       "      <td>-9</td>\n",
       "      <td>-9</td>\n",
       "      <td>3</td>\n",
       "    </tr>\n",
       "    <tr>\n",
       "      <th>184</th>\n",
       "      <td>46</td>\n",
       "      <td>1</td>\n",
       "      <td>4</td>\n",
       "      <td>110</td>\n",
       "      <td>238</td>\n",
       "      <td>0</td>\n",
       "      <td>1</td>\n",
       "      <td>140</td>\n",
       "      <td>1</td>\n",
       "      <td>1.0</td>\n",
       "      <td>2</td>\n",
       "      <td>-9</td>\n",
       "      <td>3</td>\n",
       "      <td>0</td>\n",
       "    </tr>\n",
       "    <tr>\n",
       "      <th>238</th>\n",
       "      <td>55</td>\n",
       "      <td>1</td>\n",
       "      <td>1</td>\n",
       "      <td>140</td>\n",
       "      <td>295</td>\n",
       "      <td>0</td>\n",
       "      <td>-9</td>\n",
       "      <td>136</td>\n",
       "      <td>0</td>\n",
       "      <td>0.0</td>\n",
       "      <td>-9</td>\n",
       "      <td>-9</td>\n",
       "      <td>-9</td>\n",
       "      <td>3</td>\n",
       "    </tr>\n",
       "    <tr>\n",
       "      <th>107</th>\n",
       "      <td>34</td>\n",
       "      <td>1</td>\n",
       "      <td>2</td>\n",
       "      <td>150</td>\n",
       "      <td>214</td>\n",
       "      <td>0</td>\n",
       "      <td>1</td>\n",
       "      <td>168</td>\n",
       "      <td>0</td>\n",
       "      <td>0.0</td>\n",
       "      <td>-9</td>\n",
       "      <td>-9</td>\n",
       "      <td>-9</td>\n",
       "      <td>0</td>\n",
       "    </tr>\n",
       "  </tbody>\n",
       "</table>\n",
       "</div>"
      ],
      "text/plain": [
       "     0   1   2    3    4   5   6    7   8    9   10  11  12  13\n",
       "71   44   1   2  130  215   0   0  135   0  0.0  -9  -9  -9   0\n",
       "166  46   1   1  140  272   1   0  175   0  2.0   2  -9  -9   3\n",
       "184  46   1   4  110  238   0   1  140   1  1.0   2  -9   3   0\n",
       "238  55   1   1  140  295   0  -9  136   0  0.0  -9  -9  -9   3\n",
       "107  34   1   2  150  214   0   1  168   0  0.0  -9  -9  -9   0"
      ]
     },
     "execution_count": 32,
     "metadata": {},
     "output_type": "execute_result"
    }
   ],
   "source": [
    "df_train.head()"
   ]
  },
  {
   "cell_type": "code",
   "execution_count": 33,
   "metadata": {},
   "outputs": [
    {
     "data": {
      "text/html": [
       "<div>\n",
       "<style scoped>\n",
       "    .dataframe tbody tr th:only-of-type {\n",
       "        vertical-align: middle;\n",
       "    }\n",
       "\n",
       "    .dataframe tbody tr th {\n",
       "        vertical-align: top;\n",
       "    }\n",
       "\n",
       "    .dataframe thead th {\n",
       "        text-align: right;\n",
       "    }\n",
       "</style>\n",
       "<table border=\"1\" class=\"dataframe\">\n",
       "  <thead>\n",
       "    <tr style=\"text-align: right;\">\n",
       "      <th></th>\n",
       "      <th>0</th>\n",
       "      <th>1</th>\n",
       "      <th>2</th>\n",
       "      <th>3</th>\n",
       "      <th>4</th>\n",
       "      <th>5</th>\n",
       "      <th>6</th>\n",
       "      <th>7</th>\n",
       "      <th>8</th>\n",
       "      <th>9</th>\n",
       "      <th>10</th>\n",
       "      <th>11</th>\n",
       "      <th>12</th>\n",
       "      <th>13</th>\n",
       "    </tr>\n",
       "  </thead>\n",
       "  <tbody>\n",
       "    <tr>\n",
       "      <th>267</th>\n",
       "      <td>52</td>\n",
       "      <td>1</td>\n",
       "      <td>4</td>\n",
       "      <td>130</td>\n",
       "      <td>298</td>\n",
       "      <td>0</td>\n",
       "      <td>0</td>\n",
       "      <td>110</td>\n",
       "      <td>1</td>\n",
       "      <td>1.0</td>\n",
       "      <td>2</td>\n",
       "      <td>-9</td>\n",
       "      <td>-9</td>\n",
       "      <td>3</td>\n",
       "    </tr>\n",
       "    <tr>\n",
       "      <th>104</th>\n",
       "      <td>46</td>\n",
       "      <td>1</td>\n",
       "      <td>4</td>\n",
       "      <td>118</td>\n",
       "      <td>186</td>\n",
       "      <td>0</td>\n",
       "      <td>0</td>\n",
       "      <td>124</td>\n",
       "      <td>0</td>\n",
       "      <td>0.0</td>\n",
       "      <td>-9</td>\n",
       "      <td>-9</td>\n",
       "      <td>7</td>\n",
       "      <td>1</td>\n",
       "    </tr>\n",
       "    <tr>\n",
       "      <th>72</th>\n",
       "      <td>52</td>\n",
       "      <td>1</td>\n",
       "      <td>4</td>\n",
       "      <td>120</td>\n",
       "      <td>182</td>\n",
       "      <td>0</td>\n",
       "      <td>0</td>\n",
       "      <td>150</td>\n",
       "      <td>0</td>\n",
       "      <td>0.0</td>\n",
       "      <td>-9</td>\n",
       "      <td>-9</td>\n",
       "      <td>-9</td>\n",
       "      <td>2</td>\n",
       "    </tr>\n",
       "    <tr>\n",
       "      <th>51</th>\n",
       "      <td>47</td>\n",
       "      <td>0</td>\n",
       "      <td>4</td>\n",
       "      <td>120</td>\n",
       "      <td>205</td>\n",
       "      <td>0</td>\n",
       "      <td>0</td>\n",
       "      <td>98</td>\n",
       "      <td>1</td>\n",
       "      <td>2.0</td>\n",
       "      <td>2</td>\n",
       "      <td>-9</td>\n",
       "      <td>6</td>\n",
       "      <td>4</td>\n",
       "    </tr>\n",
       "    <tr>\n",
       "      <th>152</th>\n",
       "      <td>40</td>\n",
       "      <td>1</td>\n",
       "      <td>2</td>\n",
       "      <td>130</td>\n",
       "      <td>275</td>\n",
       "      <td>0</td>\n",
       "      <td>0</td>\n",
       "      <td>150</td>\n",
       "      <td>0</td>\n",
       "      <td>0.0</td>\n",
       "      <td>-9</td>\n",
       "      <td>-9</td>\n",
       "      <td>-9</td>\n",
       "      <td>0</td>\n",
       "    </tr>\n",
       "  </tbody>\n",
       "</table>\n",
       "</div>"
      ],
      "text/plain": [
       "     0   1   2    3    4   5   6    7   8    9   10  11  12  13\n",
       "267  52   1   4  130  298   0   0  110   1  1.0   2  -9  -9   3\n",
       "104  46   1   4  118  186   0   0  124   0  0.0  -9  -9   7   1\n",
       "72   52   1   4  120  182   0   0  150   0  0.0  -9  -9  -9   2\n",
       "51   47   0   4  120  205   0   0   98   1  2.0   2  -9   6   4\n",
       "152  40   1   2  130  275   0   0  150   0  0.0  -9  -9  -9   0"
      ]
     },
     "execution_count": 33,
     "metadata": {},
     "output_type": "execute_result"
    }
   ],
   "source": [
    "df_test.head()"
   ]
  },
  {
   "cell_type": "code",
   "execution_count": 34,
   "metadata": {},
   "outputs": [
    {
     "data": {
      "text/plain": [
       "((235, 13), (235,))"
      ]
     },
     "execution_count": 34,
     "metadata": {},
     "output_type": "execute_result"
    }
   ],
   "source": [
    "X_train = df_train.drop([13], axis = 1)\n",
    "X_train\n",
    "y_train = df_train[13]\n",
    "\n",
    "y_train\n",
    "X_train.shape , y_train.shape"
   ]
  },
  {
   "cell_type": "markdown",
   "metadata": {},
   "source": [
    "## SVMでの予測"
   ]
  },
  {
   "cell_type": "code",
   "execution_count": 35,
   "metadata": {},
   "outputs": [
    {
     "data": {
      "text/plain": [
       "SVC(C=1.0, cache_size=200, class_weight=None, coef0=0.0,\n",
       "  decision_function_shape='ovr', degree=3, gamma='auto', kernel='rbf',\n",
       "  max_iter=-1, probability=False, random_state=None, shrinking=True,\n",
       "  tol=0.001, verbose=False)"
      ]
     },
     "execution_count": 35,
     "metadata": {},
     "output_type": "execute_result"
    }
   ],
   "source": [
    "from sklearn import svm\n",
    "\n",
    "clf = svm.SVC()\n",
    "clf.fit(X_train, y_train)"
   ]
  },
  {
   "cell_type": "code",
   "execution_count": 36,
   "metadata": {},
   "outputs": [],
   "source": [
    "X_test = df_test.drop([13], axis = 1)\n",
    "X_test\n",
    "y_test = df_test[13]\n",
    "\n",
    "y_pred = clf.predict(X_test)\n",
    "#print(y_test)\n",
    "#print(y_train)\n",
    "\n",
    "y_pred_train = clf.predict(X_train)"
   ]
  },
  {
   "cell_type": "code",
   "execution_count": 37,
   "metadata": {},
   "outputs": [
    {
     "name": "stdout",
     "output_type": "stream",
     "text": [
      "             precision    recall  f1-score   support\n",
      "\n",
      "          0       0.58      1.00      0.73        34\n",
      "          1       0.00      0.00      0.00         8\n",
      "          2       0.00      0.00      0.00         5\n",
      "          3       0.00      0.00      0.00         7\n",
      "          4       0.00      0.00      0.00         5\n",
      "\n",
      "avg / total       0.33      0.58      0.42        59\n",
      "\n",
      "0.576271186440678\n",
      "             precision    recall  f1-score   support\n",
      "\n",
      "          0       1.00      1.00      1.00       154\n",
      "          1       1.00      1.00      1.00        29\n",
      "          2       1.00      1.00      1.00        21\n",
      "          3       1.00      1.00      1.00        21\n",
      "          4       1.00      1.00      1.00        10\n",
      "\n",
      "avg / total       1.00      1.00      1.00       235\n",
      "\n",
      "1.0\n"
     ]
    },
    {
     "name": "stderr",
     "output_type": "stream",
     "text": [
      "/Library/Frameworks/Python.framework/Versions/3.6/lib/python3.6/site-packages/sklearn/metrics/classification.py:1135: UndefinedMetricWarning: Precision and F-score are ill-defined and being set to 0.0 in labels with no predicted samples.\n",
      "  'precision', 'predicted', average, warn_for)\n"
     ]
    }
   ],
   "source": [
    "from sklearn.metrics import classification_report, accuracy_score\n",
    "print (classification_report(y_test, y_pred))\n",
    "print (accuracy_score(y_test, y_pred))\n",
    "\n",
    "print (classification_report(y_train, y_pred_train))\n",
    "print (accuracy_score(y_train, y_pred_train))"
   ]
  },
  {
   "cell_type": "markdown",
   "metadata": {},
   "source": [
    "過学習を引き起こしていると考えられる"
   ]
  },
  {
   "cell_type": "markdown",
   "metadata": {},
   "source": [
    "## データの0-1変換を行ってみる\n",
    "\n",
    "https://qiita.com/umesaku/items/9f93973287b830a6d1b7"
   ]
  },
  {
   "cell_type": "code",
   "execution_count": 38,
   "metadata": {},
   "outputs": [],
   "source": [
    "#前処理としてMinMaxScalerを用いる。まずはMinMaxScalerのインスタンスを作る。\n",
    "from sklearn.preprocessing import MinMaxScaler\n",
    "scaler=MinMaxScaler()"
   ]
  },
  {
   "cell_type": "code",
   "execution_count": 39,
   "metadata": {},
   "outputs": [
    {
     "data": {
      "text/plain": [
       "MinMaxScaler(copy=True, feature_range=(0, 1))"
      ]
     },
     "execution_count": 39,
     "metadata": {},
     "output_type": "execute_result"
    }
   ],
   "source": [
    "#スケール変換機のfitメソッドにはデータ（X_train）のみを与え、y_trainは与えない。\n",
    "scaler.fit(X_train)\n",
    "scaler.fit(X_test)\n",
    "\n",
    "#こんなアウトプット。特徴量のレンジが0~1になっている。\n",
    "MinMaxScaler(copy=True, feature_range=(0, 1))"
   ]
  },
  {
   "cell_type": "code",
   "execution_count": 40,
   "metadata": {},
   "outputs": [],
   "source": [
    "#データを変換\n",
    "#重要！前処理ではscaler.fitメソッドとscaler.transformメソッドはセット！\n",
    "X_train_scaled = scaler.transform(X_train)\n",
    "X_test_scaled = scaler.transform(X_test)"
   ]
  },
  {
   "cell_type": "code",
   "execution_count": 41,
   "metadata": {},
   "outputs": [
    {
     "name": "stdout",
     "output_type": "stream",
     "text": [
      "transformed shape: (235, 13)\n",
      "per-feature minimum before scaling:\n",
      " 0     28.0\n",
      "1      0.0\n",
      "2      1.0\n",
      "3     -9.0\n",
      "4     -9.0\n",
      "5     -9.0\n",
      "6     -9.0\n",
      "7     -9.0\n",
      "8     -9.0\n",
      "9      0.0\n",
      "10    -9.0\n",
      "11    -9.0\n",
      "12    -9.0\n",
      "dtype: float64\n",
      "per-feature maximum before scaling:\n",
      " 0      66.0\n",
      "1       1.0\n",
      "2       4.0\n",
      "3     200.0\n",
      "4     603.0\n",
      "5       1.0\n",
      "6       2.0\n",
      "7     190.0\n",
      "8       1.0\n",
      "9       5.0\n",
      "10      3.0\n",
      "11      9.0\n",
      "12      7.0\n",
      "dtype: float64\n",
      "per-feature minimum after scaling:\n",
      " [-0.10714286  0.          0.         -1.21111111  0.          0.\n",
      " -9.         -1.05208333 -9.          0.          0.          0.\n",
      "  0.        ]\n",
      "per-feature maximum after scaling:\n",
      " [ 1.25        1.          1.          1.11111111  1.52238806  1.\n",
      "  2.          1.02083333  1.          1.66666667  1.09090909 18.\n",
      "  1.        ]\n"
     ]
    }
   ],
   "source": [
    "#データの形式を調べよう。\n",
    "print(\"transformed shape: {}\".format(X_train_scaled.shape))\n",
    "print(\"per-feature minimum before scaling:\\n {}\".format(X_train.min(axis=0)))\n",
    "print(\"per-feature maximum before scaling:\\n {}\".format(X_train.max(axis=0)))\n",
    "print(\"per-feature minimum after scaling:\\n {}\".format(\n",
    "    X_train_scaled.min(axis=0)))\n",
    "print(\"per-feature maximum after scaling:\\n {}\".format(\n",
    "    X_train_scaled.max(axis=0)))"
   ]
  },
  {
   "cell_type": "code",
   "execution_count": 42,
   "metadata": {},
   "outputs": [],
   "source": [
    "clf.fit(X_train_scaled, y_train)\n",
    "y_pred1 = clf.predict(X_test_scaled)\n",
    "\n",
    "y_pred_train1 = clf.predict(X_train_scaled)"
   ]
  },
  {
   "cell_type": "code",
   "execution_count": 43,
   "metadata": {},
   "outputs": [
    {
     "name": "stdout",
     "output_type": "stream",
     "text": [
      "             precision    recall  f1-score   support\n",
      "\n",
      "          0       0.58      1.00      0.73        34\n",
      "          1       0.00      0.00      0.00         8\n",
      "          2       0.00      0.00      0.00         5\n",
      "          3       0.00      0.00      0.00         7\n",
      "          4       0.00      0.00      0.00         5\n",
      "\n",
      "avg / total       0.33      0.58      0.42        59\n",
      "\n",
      "0.576271186440678\n",
      "             precision    recall  f1-score   support\n",
      "\n",
      "          0       0.66      1.00      0.80       154\n",
      "          1       0.00      0.00      0.00        29\n",
      "          2       0.00      0.00      0.00        21\n",
      "          3       1.00      0.10      0.17        21\n",
      "          4       0.00      0.00      0.00        10\n",
      "\n",
      "avg / total       0.52      0.66      0.54       235\n",
      "\n",
      "0.6638297872340425\n"
     ]
    },
    {
     "name": "stderr",
     "output_type": "stream",
     "text": [
      "/Library/Frameworks/Python.framework/Versions/3.6/lib/python3.6/site-packages/sklearn/metrics/classification.py:1135: UndefinedMetricWarning: Precision and F-score are ill-defined and being set to 0.0 in labels with no predicted samples.\n",
      "  'precision', 'predicted', average, warn_for)\n"
     ]
    }
   ],
   "source": [
    "print (classification_report(y_test, y_pred1))\n",
    "print (accuracy_score(y_test, y_pred1))\n",
    "\n",
    "print (classification_report(y_train, y_pred_train1))\n",
    "print (accuracy_score(y_train, y_pred_train1))"
   ]
  },
  {
   "cell_type": "markdown",
   "metadata": {},
   "source": [
    "精度が下がってしまった...。"
   ]
  },
  {
   "cell_type": "code",
   "execution_count": 41,
   "metadata": {},
   "outputs": [],
   "source": []
  },
  {
   "cell_type": "code",
   "execution_count": null,
   "metadata": {},
   "outputs": [],
   "source": []
  },
  {
   "cell_type": "code",
   "execution_count": null,
   "metadata": {},
   "outputs": [],
   "source": []
  }
 ],
 "metadata": {
  "kernelspec": {
   "display_name": "Python 3",
   "language": "python",
   "name": "python3"
  },
  "language_info": {
   "codemirror_mode": {
    "name": "ipython",
    "version": 3
   },
   "file_extension": ".py",
   "mimetype": "text/x-python",
   "name": "python",
   "nbconvert_exporter": "python",
   "pygments_lexer": "ipython3",
   "version": "3.6.4"
  }
 },
 "nbformat": 4,
 "nbformat_minor": 2
}
